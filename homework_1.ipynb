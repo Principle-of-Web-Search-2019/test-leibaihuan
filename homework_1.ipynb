{
 "cells": [
  {
   "cell_type": "code",
   "execution_count": 101,
   "metadata": {},
   "outputs": [],
   "source": [
    "titles = \"\"\"\n",
    "人民日报：朝鲜加快经济建设 高楼拔地而起\n",
    "郭麒麟在北京租的房子很朴素 远不及他爸的豪宅\n",
    "非洲姑娘嫁到辽宁农村 东北话10级还做菜给公婆吃\n",
    "台北101层大厦造价127亿 竟靠一颗球来抵御台\n",
    "日本女学生陪酒月入18万 却跟男友挤22㎡脏乱小\n",
    "华人夫妻花3年在澳洲买地建房 差点被繁琐流程劝退\n",
    "澳洲小镇一半居民住地下 四季恒温房子大小随便挖\n",
    "奚梦瑶嫁入豪门变阔太 7亿婚房却被嘲只值7百万\n",
    "巩俐饰演的郎平造型意外曝光 网友:这也太像了\n",
    "日本商业捕鲸近海船队回港 1430吨鲸肉11月起\n",
    "中国小伙娶越南富家美女 老丈人将家装成中国风\n",
    "悬崖上的旅馆入住得先攀岩 睡一晚还要两千块\n",
    "阿联酋航空头等舱坐一次8万 40平私密空间有吃有\n",
    "曼哈顿价值1亿的无敌景观公寓 室内竟无一根柱子\n",
    "印度片酬最高的演员的房子 竟不如国内5线明星的家\n",
    "价值5.3亿的别墅进出都要坐缆车 花园走道还能发\n",
    "中国女排凌晨降落北京机场 现场球迷立刻沸腾\n",
    "台湾首富家里一幅画抵一套房 家居摆设很注重风水\n",
    "郭麒麟在北京租的房子很朴素 远不及他爸的豪宅\n",
    "香港光头警长刘sir夜游王府井 与市民游客热情合\n",
    "iPhone11领衔 一文看懂2019苹果秋季新\n",
    "中国小伙勇闯印度最大贫民窟 几千人共用一个厕所\n",
    "《寄生虫》中富人住1亿豪宅 穷人只能住地下室\n",
    "台北101遇台风稳如泰山 竟是靠这颗2800万的\n",
    " 小米发环绕屏手机MIX Alpha：相机1亿像\n",
    "蒙古国棚户区一老人家里藏品巨多 还超级向往中国 \n",
    "孟买上百万人挤贫民窟 首富1家5口住27层高楼豪\n",
    "预售18万起/年内上市 广汽本田皓影发布\n",
    "越南小哥用镰刀铲建了几十栋豪宅 惹6千万网友羡慕\n",
    "北京富人区一套房子一亿多 小区还散养着鹿和羊驼\n",
    "拍出近1.98亿港元！常玉《曲腿裸女》画一笔一千\n",
    "新娘婚礼磕100个头拿2万红包:给几个红包磕几个\n",
    "人从众众!网红饭店取号近2万桌 食客排3天都没吃\n",
    "女子1天521元出租自己假结婚 和男方生活10天\n",
    "轻松一刻:每年给你70万,这辈子不能碰手机,愿意\n",
    "被大雪堵成串!千余车辆被困张掖至青海路段11小时\n",
    "足球迷怒了：女排夺冠是好事，但请不要带节奏侮辱国\n",
    "巩俐饰演的郎平造型意外曝光 网友:这也太像了\n",
    "当年第一个在长城上喝可乐的中国男孩，如今过得怎么\n",
    "惠州三星电子解散 补偿薪水工资加赔偿金 十年以上\n",
    "25万二手宝马上429万保险 国内最大车保诈骗案\n",
    "三星惠州工厂关闭，员工每人送一台高端手机，工会还\n",
    "“一个个不知道是来干啥”家长会上，小学生班干部厉\n",
    "拍出近1.98亿港元！常玉《曲腿裸女》画一笔一千\n",
    "新娘婚礼磕100个头拿2万红包:给几个红包磕几个\n",
    "男子开车误入出租车道 想离开付每位出租司机20元\n",
    "罗永浩使用iPhone:吐槽很难用 称收购苹果需\n",
    "高楼外墙脱落砸死人，让整栋楼担责，每户人赔3万，\n",
    "网上都在说“穷人用苹果，富人用华为”，现实中真是\n",
    "路虎堵别克后续：占位车主向媒体发声我不对，但他下\n",
    "惠州三星电子解散 补偿薪水工资加赔偿金 十年以上\n",
    "你不知道，每天晚上有多少男人在酒吧门口等着“捡尸\n",
    "25万二手宝马上429万保险 国内最大车保诈骗案\n",
    "火爆！疑那英踢人视频曝光 一脸不爽飞踢跟拍者\n",
    "这是清末时期的美国，你能想到这是百年前的美国吗？\n",
    "华为被指责窃取苹果机密\n",
    "微软回马枪与苹果华为谷歌竞争\n",
    "华为员工用苹果手机受重罚\n",
    "苹果芯片有望两年内实现自己供给\n",
    "为什么苹果和华为都是基于ARM芯片，但是性能差异很大\n",
    "华为确认：部分P30 Pro手机已无法通过谷歌安\n",
    "中国曾有九所世界级大学，有八所是外国人开办，几乎\n",
    "美国人近100年科技发明，你还会认为美国发达是靠\n",
    "要是没有西方文明的输入，中国能否在本土上诞生真正\n",
    "巩俐饰演的郎平造型意外曝光 网友:这也太像了\n",
    "新娘婚礼磕100个头拿2万红包:给几个红包磕几个\n",
    "央视主播忠告蒙面暴徒:现在砸得\"欢\"追责时就懵 \n",
    "\n",
    "\"\"\""
   ]
  },
  {
   "cell_type": "code",
   "execution_count": 102,
   "metadata": {
    "scrolled": true
   },
   "outputs": [
    {
     "data": {
      "text/plain": [
       "1599"
      ]
     },
     "execution_count": 102,
     "metadata": {},
     "output_type": "execute_result"
    }
   ],
   "source": [
    "len(titles)"
   ]
  },
  {
   "cell_type": "code",
   "execution_count": 103,
   "metadata": {},
   "outputs": [],
   "source": [
    "title_list=titles.split()\n",
    "title_list=set(title_list)"
   ]
  },
  {
   "cell_type": "code",
   "execution_count": 104,
   "metadata": {
    "scrolled": false
   },
   "outputs": [
    {
     "name": "stdout",
     "output_type": "stream",
     "text": [
      "“一个个不知道是来干啥”家长会上，小*学生*班干部厉\n",
      "日本女*学生*陪酒月入18万\n"
     ]
    }
   ],
   "source": [
    "keyword='学生'\n",
    "for title in title_list:\n",
    "    if keyword in title:\n",
    "        print (title.replace(keyword,'*{}*'.format(keyword)))\n",
    "   "
   ]
  },
  {
   "cell_type": "code",
   "execution_count": 105,
   "metadata": {},
   "outputs": [
    {
     "data": {
      "text/html": [
       "<a href=\"/\">link</a>"
      ],
      "text/plain": [
       "<IPython.core.display.HTML object>"
      ]
     },
     "execution_count": 105,
     "metadata": {},
     "output_type": "execute_result"
    }
   ],
   "source": [
    "from IPython.core.display import HTML\n",
    "HTML('<a href=\"/\">link</a>')"
   ]
  },
  {
   "cell_type": "code",
   "execution_count": 106,
   "metadata": {},
   "outputs": [
    {
     "data": {
      "text/html": [
       "微软回马枪与<span style=\"color:red\">苹果</span>华为谷歌竞争"
      ],
      "text/plain": [
       "<IPython.core.display.HTML object>"
      ]
     },
     "metadata": {},
     "output_type": "display_data"
    },
    {
     "data": {
      "text/html": [
       "华为员工用<span style=\"color:red\">苹果</span>手机受重罚"
      ],
      "text/plain": [
       "<IPython.core.display.HTML object>"
      ]
     },
     "metadata": {},
     "output_type": "display_data"
    },
    {
     "data": {
      "text/html": [
       "称收购<span style=\"color:red\">苹果</span>需"
      ],
      "text/plain": [
       "<IPython.core.display.HTML object>"
      ]
     },
     "metadata": {},
     "output_type": "display_data"
    },
    {
     "data": {
      "text/html": [
       "为什么<span style=\"color:red\">苹果</span>和华为都是基于ARM芯片，但是性能差异很大"
      ],
      "text/plain": [
       "<IPython.core.display.HTML object>"
      ]
     },
     "metadata": {},
     "output_type": "display_data"
    },
    {
     "data": {
      "text/html": [
       "<span style=\"color:red\">苹果</span>芯片有望两年内实现自己供给"
      ],
      "text/plain": [
       "<IPython.core.display.HTML object>"
      ]
     },
     "metadata": {},
     "output_type": "display_data"
    },
    {
     "data": {
      "text/html": [
       "网上都在说“穷人用<span style=\"color:red\">苹果</span>，富人用华为”，现实中真是"
      ],
      "text/plain": [
       "<IPython.core.display.HTML object>"
      ]
     },
     "metadata": {},
     "output_type": "display_data"
    },
    {
     "data": {
      "text/html": [
       "一文看懂2019<span style=\"color:red\">苹果</span>秋季新"
      ],
      "text/plain": [
       "<IPython.core.display.HTML object>"
      ]
     },
     "metadata": {},
     "output_type": "display_data"
    },
    {
     "data": {
      "text/html": [
       "华为被指责窃取<span style=\"color:red\">苹果</span>机密"
      ],
      "text/plain": [
       "<IPython.core.display.HTML object>"
      ]
     },
     "metadata": {},
     "output_type": "display_data"
    }
   ],
   "source": [
    "from IPython.core.display import HTML,display\n",
    "keyword='苹果'\n",
    "for title in title_list:\n",
    "    if keyword in title:\n",
    "        display(HTML(title.replace(keyword,'<span style=\"color:red\">{}</span>'.format(keyword))))"
   ]
  },
  {
   "cell_type": "code",
   "execution_count": 107,
   "metadata": {},
   "outputs": [
    {
     "data": {
      "text/html": [
       "微软回马枪与苹果华为谷歌竞争"
      ],
      "text/plain": [
       "<IPython.core.display.HTML object>"
      ]
     },
     "metadata": {},
     "output_type": "display_data"
    },
    {
     "data": {
      "text/html": [
       "华为员工用苹果手机受重罚"
      ],
      "text/plain": [
       "<IPython.core.display.HTML object>"
      ]
     },
     "metadata": {},
     "output_type": "display_data"
    },
    {
     "data": {
      "text/html": [
       "为什么苹果和华为都是基于ARM芯片，但是性能差异很大"
      ],
      "text/plain": [
       "<IPython.core.display.HTML object>"
      ]
     },
     "metadata": {},
     "output_type": "display_data"
    },
    {
     "data": {
      "text/html": [
       "网上都在说“穷人用苹果，富人用华为”，现实中真是"
      ],
      "text/plain": [
       "<IPython.core.display.HTML object>"
      ]
     },
     "metadata": {},
     "output_type": "display_data"
    },
    {
     "data": {
      "text/html": [
       "华为被指责窃取苹果机密"
      ],
      "text/plain": [
       "<IPython.core.display.HTML object>"
      ]
     },
     "metadata": {},
     "output_type": "display_data"
    }
   ],
   "source": [
    "from IPython.core.display import HTML,display\n",
    "keyword='苹果 华为'\n",
    "for title in title_list:\n",
    "    ifmatch=True\n",
    "    for word in keyword.split():\n",
    "        #如果title里面没有word直接跳出\n",
    "        if word not in title:\n",
    "            ifmatch = False\n",
    "            \n",
    "    if ifmatch:\n",
    "        display(HTML(title.replace(keyword,'<span style=\"color:red\">{}</span>'.format(keyword))))"
   ]
  },
  {
   "cell_type": "code",
   "execution_count": 108,
   "metadata": {},
   "outputs": [
    {
     "data": {
      "text/html": [
       "微软回马枪与<span style=\"color:red\">苹果</span><span style=\"color:red\">华为</span>谷歌竞争"
      ],
      "text/plain": [
       "<IPython.core.display.HTML object>"
      ]
     },
     "metadata": {},
     "output_type": "display_data"
    },
    {
     "data": {
      "text/html": [
       "<span style=\"color:red\">华为</span>员工用<span style=\"color:red\">苹果</span>手机受重罚"
      ],
      "text/plain": [
       "<IPython.core.display.HTML object>"
      ]
     },
     "metadata": {},
     "output_type": "display_data"
    },
    {
     "data": {
      "text/html": [
       "为什么<span style=\"color:red\">苹果</span>和<span style=\"color:red\">华为</span>都是基于ARM芯片，但是性能差异很大"
      ],
      "text/plain": [
       "<IPython.core.display.HTML object>"
      ]
     },
     "metadata": {},
     "output_type": "display_data"
    },
    {
     "data": {
      "text/html": [
       "网上都在说“穷人用<span style=\"color:red\">苹果</span>，富人用<span style=\"color:red\">华为</span>”，现实中真是"
      ],
      "text/plain": [
       "<IPython.core.display.HTML object>"
      ]
     },
     "metadata": {},
     "output_type": "display_data"
    },
    {
     "data": {
      "text/html": [
       "<span style=\"color:red\">华为</span>被指责窃取<span style=\"color:red\">苹果</span>机密"
      ],
      "text/plain": [
       "<IPython.core.display.HTML object>"
      ]
     },
     "metadata": {},
     "output_type": "display_data"
    }
   ],
   "source": [
    "from IPython.core.display import HTML,display\n",
    "keyword='苹果 华为'\n",
    "for title in title_list:\n",
    "    ifmatch=True\n",
    "    for word in keyword.split():\n",
    "        #将每个关键字在title里面标红出来\n",
    "        title=title.replace(word,'<span style=\"color:red\">{}</span>'.format(word))\n",
    "        #如果title里面没有word直接跳出\n",
    "        if word not in title:\n",
    "            ifmatch = False\n",
    "            \n",
    "    if ifmatch:\n",
    "        display(HTML(title))"
   ]
  },
  {
   "cell_type": "code",
   "execution_count": 109,
   "metadata": {
    "scrolled": true
   },
   "outputs": [
    {
     "data": {
      "text/plain": [
       "'苹果 华为'"
      ]
     },
     "execution_count": 109,
     "metadata": {},
     "output_type": "execute_result"
    }
   ],
   "source": [
    "\" \".join(jieba.cut(\"苹果华为\"))"
   ]
  },
  {
   "cell_type": "code",
   "execution_count": 110,
   "metadata": {},
   "outputs": [
    {
     "data": {
      "text/html": [
       "微软回马枪与<span style=\"color:red\">苹果</span><span style=\"color:red\">华为</span>谷歌竞争"
      ],
      "text/plain": [
       "<IPython.core.display.HTML object>"
      ]
     },
     "metadata": {},
     "output_type": "display_data"
    },
    {
     "data": {
      "text/html": [
       "<span style=\"color:red\">华为</span>员工用<span style=\"color:red\">苹果</span>手机受重罚"
      ],
      "text/plain": [
       "<IPython.core.display.HTML object>"
      ]
     },
     "metadata": {},
     "output_type": "display_data"
    },
    {
     "data": {
      "text/html": [
       "为什么<span style=\"color:red\">苹果</span>和<span style=\"color:red\">华为</span>都是基于ARM芯片，但是性能差异很大"
      ],
      "text/plain": [
       "<IPython.core.display.HTML object>"
      ]
     },
     "metadata": {},
     "output_type": "display_data"
    },
    {
     "data": {
      "text/html": [
       "网上都在说“穷人用<span style=\"color:red\">苹果</span>，富人用<span style=\"color:red\">华为</span>”，现实中真是"
      ],
      "text/plain": [
       "<IPython.core.display.HTML object>"
      ]
     },
     "metadata": {},
     "output_type": "display_data"
    },
    {
     "data": {
      "text/html": [
       "<span style=\"color:red\">华为</span>被指责窃取<span style=\"color:red\">苹果</span>机密"
      ],
      "text/plain": [
       "<IPython.core.display.HTML object>"
      ]
     },
     "metadata": {},
     "output_type": "display_data"
    }
   ],
   "source": [
    "from IPython.core.display import HTML,display\n",
    "keyword='苹果华为'\n",
    "for title in title_list:\n",
    "    ifmatch=True\n",
    "    #这儿调用jieba分词\n",
    "    for word in jieba.cut(keyword):\n",
    "        #将每个关键字在title里面标红出来\n",
    "        title=title.replace(word,'<span style=\"color:red\">{}</span>'.format(word))\n",
    "        #如果title里面没有word直接跳出\n",
    "        if word not in title:\n",
    "            ifmatch = False\n",
    "            \n",
    "    if ifmatch:\n",
    "        display(HTML(title))"
   ]
  },
  {
   "cell_type": "code",
   "execution_count": 111,
   "metadata": {},
   "outputs": [
    {
     "data": {
      "text/html": [
       "微软回马枪与<span<span style=\"color:red\"> </span>style=\"color:red\">苹果</span><span style=\"color:red\">华为</span>谷歌竞争"
      ],
      "text/plain": [
       "<IPython.core.display.HTML object>"
      ]
     },
     "metadata": {},
     "output_type": "display_data"
    },
    {
     "data": {
      "text/html": [
       "<span style=\"color:red\">华为</span>员工用<span<span style=\"color:red\"> </span>style=\"color:red\">苹果</span>手机受重罚"
      ],
      "text/plain": [
       "<IPython.core.display.HTML object>"
      ]
     },
     "metadata": {},
     "output_type": "display_data"
    },
    {
     "data": {
      "text/html": [
       "为什么<span<span style=\"color:red\"> </span>style=\"color:red\">苹果</span>和<span style=\"color:red\">华为</span>都是基于ARM芯片，但是性能差异很大"
      ],
      "text/plain": [
       "<IPython.core.display.HTML object>"
      ]
     },
     "metadata": {},
     "output_type": "display_data"
    },
    {
     "data": {
      "text/html": [
       "网上都在说“穷人用<span<span style=\"color:red\"> </span>style=\"color:red\">苹果</span>，富人用<span style=\"color:red\">华为</span>”，现实中真是"
      ],
      "text/plain": [
       "<IPython.core.display.HTML object>"
      ]
     },
     "metadata": {},
     "output_type": "display_data"
    },
    {
     "data": {
      "text/html": [
       "<span style=\"color:red\">华为</span>被指责窃取<span<span style=\"color:red\"> </span>style=\"color:red\">苹果</span>机密"
      ],
      "text/plain": [
       "<IPython.core.display.HTML object>"
      ]
     },
     "metadata": {},
     "output_type": "display_data"
    }
   ],
   "source": [
    "from IPython.core.display import HTML,display\n",
    "keyword='苹果 华为'\n",
    "for title in title_list:\n",
    "    ifmatch=True\n",
    "    for word in jieba.cut(keyword):   \n",
    "        title=title.replace(word,'<span style=\"color:red\">{}</span>'.format(word))\n",
    "        if word not in title:\n",
    "            ifmatch = False\n",
    "            \n",
    "    if ifmatch:\n",
    "        display(HTML(title))"
   ]
  },
  {
   "cell_type": "code",
   "execution_count": 112,
   "metadata": {},
   "outputs": [
    {
     "name": "stdout",
     "output_type": "stream",
     "text": [
      "苹果   华为\n"
     ]
    }
   ],
   "source": [
    "keyword=\"苹果 华为\"\n",
    "keyword_=' '.join(jieba.cut(keyword))\n",
    "print(keyword_)"
   ]
  },
  {
   "cell_type": "code",
   "execution_count": 113,
   "metadata": {},
   "outputs": [
    {
     "data": {
      "text/html": [
       "微软回马枪与<span style=\"color:red\">苹果</span><span style=\"color:red\">华为</span>谷歌竞争"
      ],
      "text/plain": [
       "<IPython.core.display.HTML object>"
      ]
     },
     "metadata": {},
     "output_type": "display_data"
    },
    {
     "data": {
      "text/html": [
       "<span style=\"color:red\">华为</span>员工用<span style=\"color:red\">苹果</span>手机受重罚"
      ],
      "text/plain": [
       "<IPython.core.display.HTML object>"
      ]
     },
     "metadata": {},
     "output_type": "display_data"
    },
    {
     "data": {
      "text/html": [
       "为什么<span style=\"color:red\">苹果</span>和<span style=\"color:red\">华为</span>都是基于ARM芯片，但是性能差异很大"
      ],
      "text/plain": [
       "<IPython.core.display.HTML object>"
      ]
     },
     "metadata": {},
     "output_type": "display_data"
    },
    {
     "data": {
      "text/html": [
       "网上都在说“穷人用<span style=\"color:red\">苹果</span>，富人用<span style=\"color:red\">华为</span>”，现实中真是"
      ],
      "text/plain": [
       "<IPython.core.display.HTML object>"
      ]
     },
     "metadata": {},
     "output_type": "display_data"
    },
    {
     "data": {
      "text/html": [
       "<span style=\"color:red\">华为</span>被指责窃取<span style=\"color:red\">苹果</span>机密"
      ],
      "text/plain": [
       "<IPython.core.display.HTML object>"
      ]
     },
     "metadata": {},
     "output_type": "display_data"
    }
   ],
   "source": [
    "keyword=\"苹果 华为\"\n",
    "keyword_=' '.join(jieba.cut(keyword))\n",
    "for title in title_list:\n",
    "    ifmatch=True\n",
    "    for word in keyword_.split():   \n",
    "        title=title.replace(word,'<span style=\"color:red\">{}</span>'.format(word))\n",
    "        if word not in title:\n",
    "            ifmatch = False\n",
    "            \n",
    "    if ifmatch:\n",
    "        display(HTML(title))"
   ]
  },
  {
   "cell_type": "code",
   "execution_count": 120,
   "metadata": {},
   "outputs": [],
   "source": [
    "def word_match(word,title):\n",
    "    result=(word in title)\n",
    "    return result\n",
    "\n",
    "keyword=\"苹果 and (芯片 or 华为)\"\n",
    "keyword_=' '.join(jieba.cut(keyword))\n",
    "\n",
    "for title in title_list:\n",
    "    ifmatch=True\n",
    "    for word in keyword_.split():   \n",
    "        title=title.replace(word,'<span style=\"color:red\">{}</span>'.format(word))\n",
    "        if not word_match(word,title):\n",
    "            ifmatch = False\n",
    "            \n",
    "    if ifmatch:\n",
    "        display(HTML(title))"
   ]
  },
  {
   "cell_type": "code",
   "execution_count": 115,
   "metadata": {},
   "outputs": [
    {
     "name": "stdout",
     "output_type": "stream",
     "text": [
      "True\n"
     ]
    }
   ],
   "source": [
    "title=\"为什么苹果和华为都是基于ARM芯片，但是性能差异很大\"\n",
    "print(eval(\"('苹果'in title) and (('芯片'in title) or ('华为'in title))\"))"
   ]
  },
  {
   "cell_type": "code",
   "execution_count": 116,
   "metadata": {},
   "outputs": [
    {
     "name": "stdout",
     "output_type": "stream",
     "text": [
      "True\n"
     ]
    }
   ],
   "source": [
    "title=\"为什么苹果和华为都是基于ARM芯片，但是性能差异很大\"\n",
    "print(eval(\"word_match('苹果',title) and (word_match('华为',title) or word_match('芯片',title))\"))"
   ]
  },
  {
   "cell_type": "code",
   "execution_count": 129,
   "metadata": {},
   "outputs": [
    {
     "name": "stdout",
     "output_type": "stream",
     "text": [
      "['苹果', 'and', '(', '芯片', 'or', '华为', ')']\n"
     ]
    }
   ],
   "source": [
    "keyword=\"苹果 and (芯片 or 华为)\"\n",
    "keyword_=' '.join(jieba.cut(keyword))\n",
    "keyword_ = keyword_.split()\n",
    "print(keyword_)"
   ]
  },
  {
   "cell_type": "code",
   "execution_count": 130,
   "metadata": {},
   "outputs": [
    {
     "data": {
      "text/html": [
       "微软回马枪与<span style=\"color:red\">苹果</span><span style=\"color:red\">华为</span>谷歌竞争"
      ],
      "text/plain": [
       "<IPython.core.display.HTML object>"
      ]
     },
     "metadata": {},
     "output_type": "display_data"
    },
    {
     "data": {
      "text/html": [
       "<span style=\"color:red\">华为</span>员工用<span style=\"color:red\">苹果</span>手机受重罚"
      ],
      "text/plain": [
       "<IPython.core.display.HTML object>"
      ]
     },
     "metadata": {},
     "output_type": "display_data"
    },
    {
     "data": {
      "text/html": [
       "为什么<span style=\"color:red\">苹果</span>和<span style=\"color:red\">华为</span>都是基于ARM<span style=\"color:red\">芯片</span>，但是性能差异很大"
      ],
      "text/plain": [
       "<IPython.core.display.HTML object>"
      ]
     },
     "metadata": {},
     "output_type": "display_data"
    },
    {
     "data": {
      "text/html": [
       "<span style=\"color:red\">苹果</span><span style=\"color:red\">芯片</span>有望两年内实现自己供给"
      ],
      "text/plain": [
       "<IPython.core.display.HTML object>"
      ]
     },
     "metadata": {},
     "output_type": "display_data"
    },
    {
     "data": {
      "text/html": [
       "网上都在说“穷人用<span style=\"color:red\">苹果</span>，富人用<span style=\"color:red\">华为</span>”，现实中真是"
      ],
      "text/plain": [
       "<IPython.core.display.HTML object>"
      ]
     },
     "metadata": {},
     "output_type": "display_data"
    },
    {
     "data": {
      "text/html": [
       "<span style=\"color:red\">华为</span>被指责窃取<span style=\"color:red\">苹果</span>机密"
      ],
      "text/plain": [
       "<IPython.core.display.HTML object>"
      ]
     },
     "metadata": {},
     "output_type": "display_data"
    }
   ],
   "source": [
    "def word_match(word,title):\n",
    "    result=(word in title)\n",
    "    return result\n",
    "\n",
    "keyword=\"苹果 and (芯片 or 华为)\"\n",
    "keyword_=' '.join(jieba.cut(keyword))\n",
    "keyword_ = keyword_.split()\n",
    "\n",
    "for title in title_list:\n",
    "    if (eval(\"word_match(keyword_[0],title) and (word_match(keyword_[3],title) or word_match(keyword_[5],title))\")):\n",
    "        title=title.replace(keyword_[0],'<span style=\"color:red\">{}</span>'.format(keyword_[0]))\n",
    "        title=title.replace(keyword_[3],'<span style=\"color:red\">{}</span>'.format(keyword_[3]))\n",
    "        title=title.replace(keyword_[5],'<span style=\"color:red\">{}</span>'.format(keyword_[5]))\n",
    "    \n",
    "        display(HTML(title))"
   ]
  },
  {
   "cell_type": "code",
   "execution_count": null,
   "metadata": {},
   "outputs": [],
   "source": []
  }
 ],
 "metadata": {
  "kernelspec": {
   "display_name": "Python 3",
   "language": "python",
   "name": "python3"
  },
  "language_info": {
   "codemirror_mode": {
    "name": "ipython",
    "version": 3
   },
   "file_extension": ".py",
   "mimetype": "text/x-python",
   "name": "python",
   "nbconvert_exporter": "python",
   "pygments_lexer": "ipython3",
   "version": "3.7.3"
  }
 },
 "nbformat": 4,
 "nbformat_minor": 2
}
